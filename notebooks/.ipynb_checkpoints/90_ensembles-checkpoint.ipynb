{
 "cells": [
  {
   "cell_type": "code",
   "execution_count": null,
   "id": "9fc10df4-1d8e-44b7-b675-d62661fc2f05",
   "metadata": {},
   "outputs": [],
   "source": [
    "# Ensemble-Modelle (Stacking, Averaging) und Vergleich\n",
    "\n",
    "import sys, os\n",
    "sys.path.append(os.path.abspath(os.path.join('..')))"
   ]
  }
 ],
 "metadata": {
  "kernelspec": {
   "display_name": "Python 3 (ipykernel)",
   "language": "python",
   "name": "python3"
  },
  "language_info": {
   "name": ""
  }
 },
 "nbformat": 4,
 "nbformat_minor": 5
}
