{
 "cells": [
  {
   "cell_type": "code",
   "execution_count": null,
   "id": "d1812cd1-c21b-4e85-99d2-d3f2b16b6e1a",
   "metadata": {},
   "outputs": [],
   "source": [
    "# Training & Evaluation von Baselines (Naive, etc.)\n",
    "\n",
    "import sys, os\n",
    "sys.path.append(os.path.abspath(os.path.join('..')))"
   ]
  }
 ],
 "metadata": {
  "kernelspec": {
   "display_name": "Python 3 (ipykernel)",
   "language": "python",
   "name": "python3"
  },
  "language_info": {
   "name": ""
  }
 },
 "nbformat": 4,
 "nbformat_minor": 5
}
