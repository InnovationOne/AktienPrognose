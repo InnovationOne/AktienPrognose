{
 "cells": [
  {
   "cell_type": "code",
   "execution_count": null,
   "id": "cbb69eb7-6b63-4c07-b6cd-a77a468e2ce4",
   "metadata": {},
   "outputs": [],
   "source": [
    "# Training & Evaluation ARIMA\n",
    "\n",
    "import sys, os\n",
    "sys.path.append(os.path.abspath(os.path.join('..')))"
   ]
  }
 ],
 "metadata": {
  "kernelspec": {
   "display_name": "Python 3 (ipykernel)",
   "language": "python",
   "name": "python3"
  },
  "language_info": {
   "name": ""
  }
 },
 "nbformat": 4,
 "nbformat_minor": 5
}
