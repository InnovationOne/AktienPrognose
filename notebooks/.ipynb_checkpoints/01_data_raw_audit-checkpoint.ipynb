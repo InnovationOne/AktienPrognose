{
 "cells": [
  {
   "cell_type": "code",
   "execution_count": null,
   "id": "3944c910-9d13-4e59-a19a-857a961426c9",
   "metadata": {},
   "outputs": [],
   "source": [
    "# Datenprüfung der Rohdaten\n",
    "\n",
    "import sys, os\n",
    "sys.path.append(os.path.abspath(os.path.join('..')))"
   ]
  }
 ],
 "metadata": {
  "kernelspec": {
   "display_name": "Python 3 (ipykernel)",
   "language": "python",
   "name": "python3"
  },
  "language_info": {
   "name": ""
  }
 },
 "nbformat": 4,
 "nbformat_minor": 5
}
