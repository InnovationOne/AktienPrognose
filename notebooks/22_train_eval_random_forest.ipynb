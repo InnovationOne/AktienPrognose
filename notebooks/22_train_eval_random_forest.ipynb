{
 "cells": [
  {
   "cell_type": "code",
   "execution_count": null,
   "id": "70eb0253-aae9-40af-951a-514cf9c37945",
   "metadata": {},
   "outputs": [],
   "source": [
    "# Training & Evaluation Random Forest\n",
    "\n",
    "import sys, os\n",
    "sys.path.append(os.path.abspath(os.path.join('..')))"
   ]
  }
 ],
 "metadata": {
  "kernelspec": {
   "display_name": "Python 3 (ipykernel)",
   "language": "python",
   "name": "python3"
  },
  "language_info": {
   "name": ""
  }
 },
 "nbformat": 4,
 "nbformat_minor": 5
}
