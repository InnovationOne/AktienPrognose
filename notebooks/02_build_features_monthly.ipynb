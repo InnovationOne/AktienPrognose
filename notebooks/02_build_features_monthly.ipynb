{
 "cells": [
  {
   "cell_type": "code",
   "execution_count": 1,
   "id": "b3a4a4ac-b692-40c0-801c-eb9d73be1c46",
   "metadata": {},
   "outputs": [
    {
     "name": "stdout",
     "output_type": "stream",
     "text": [
      "Project root: C:\\Users\\gamer\\Desktop\\AktienPrognose\n"
     ]
    }
   ],
   "source": [
    "# Setup: Keep the notebook reproducible and self-contained; no hidden state across runs.\n",
    "from __future__ import annotations\n",
    "\n",
    "from pathlib import Path\n",
    "import sys\n",
    "import warnings\n",
    "import logging\n",
    "from typing import Iterable, Mapping\n",
    "\n",
    "import yaml\n",
    "import pandas as pd\n",
    "\n",
    "warnings.filterwarnings(\"ignore\")\n",
    "logging.basicConfig(level=logging.INFO, format=\"%(levelname)s: %(message)s\")\n",
    "logger = logging.getLogger(\"features_build\")\n",
    "\n",
    "def find_project_root(start: Path) -> Path:\n",
    "    start = start.resolve()\n",
    "    for p in [start, *start.parents]:\n",
    "        if (p/\"config\").exists() and (p/\"src\").exists():\n",
    "            return p\n",
    "    raise AssertionError(\"Project folders missing: expected 'config' and 'src' somewhere above the notebook.\")\n",
    "\n",
    "ROOT = find_project_root(Path.cwd())\n",
    "assert (ROOT / \"config\").exists() and (ROOT / \"src\").exists(), \"Project folders missing.\"\n",
    "print(\"Project root:\", ROOT)\n",
    "\n",
    "root_str = str(ROOT)\n",
    "if root_str not in sys.path:\n",
    "    sys.path.append(root_str)\n",
    "\n",
    "# Import the feature builder.\n",
    "from src.features.feature_engineering import FeatureSpec, build_feature_matrix"
   ]
  },
  {
   "cell_type": "code",
   "execution_count": 2,
   "id": "52bded61-850c-4f35-adfd-5c6fcff07527",
   "metadata": {
    "tags": []
   },
   "outputs": [],
   "source": [
    "# Helpers\n",
    "def _load_yaml(cfg_path: Path) -> dict:\n",
    "    if not cfg_path.exists():\n",
    "        raise FileNotFoundError(f\"Config not found: {cfg_path}\")\n",
    "    try:\n",
    "        with cfg_path.open(\"r\", encoding=\"utf-8\") as f:\n",
    "            return yaml.safe_load(f) or {}\n",
    "    except Exception as e:\n",
    "        raise RuntimeError(f\"Failed to parse YAML: {cfg_path}\") from e\n",
    "\n",
    "\n",
    "def _require_keys(obj: Mapping, keys: Iterable[str], ctx: str) -> None:\n",
    "    for k in keys:\n",
    "        if k not in obj:\n",
    "            raise KeyError(f\"Missing key '{k}' in {ctx}\")\n",
    "\n",
    "\n",
    "def _ensure_datetime_index_sorted(df: pd.DataFrame) -> pd.DataFrame:\n",
    "    \"\"\"Validate DatetimeIndex and return a sorted copy.\n",
    "    Args: df: Input DataFrame.\n",
    "    Returns: Sorted DataFrame.\n",
    "    Raises: TypeError: If index is not DatetimeIndex.\"\"\"\n",
    "    if not isinstance(df.index, pd.DatetimeIndex):\n",
    "        raise TypeError(\"Index must be DatetimeIndex.\")\n",
    "    return df if df.index.is_monotonic_increasing else df.sort_index()\n",
    "\n",
    "\n",
    "def _safe_write_parquet_csv(df: pd.DataFrame, pq_path: Path, csv_path: Path) -> None:\n",
    "    \"\"\"Persist DataFrame as Parquet and CSV with robust error context.\n",
    "    Args:\n",
    "        df: DataFrame to persist.\n",
    "        pq_path: Parquet destination path.\n",
    "        csv_path: CSV destination path.\n",
    "    Raises: RuntimeError: If any write fails.\"\"\"\n",
    "    pq_path.parent.mkdir(parents=True, exist_ok=True)\n",
    "    try:\n",
    "        df.to_parquet(pq_path)\n",
    "    except Exception as e:\n",
    "        raise RuntimeError(f\"Failed to write Parquet to {pq_path}: {e}\") from e\n",
    "    try:\n",
    "        df.to_csv(csv_path, index=True)\n",
    "    except Exception as e:\n",
    "        raise RuntimeError(f\"Failed to write CSV to {csv_path}: {e}\") from e"
   ]
  },
  {
   "cell_type": "code",
   "execution_count": 3,
   "id": "62cc67dd-239e-48d0-90ea-8a5934529e2f",
   "metadata": {},
   "outputs": [
    {
     "name": "stdout",
     "output_type": "stream",
     "text": [
      "Config window: 2008-01-01 → 2025-06-30\n"
     ]
    }
   ],
   "source": [
    "# Config\n",
    "CFG_PATH: Path = ROOT / \"config\" / \"data_config.yaml\"\n",
    "cfg: dict = _load_yaml(CFG_PATH)\n",
    "\n",
    "_require_keys(cfg, [\"dataset\"], \"config/data_config.yaml\")\n",
    "_require_keys(cfg[\"dataset\"], [\"start_date\", \"end_date\"], \"config.dataset\")\n",
    "\n",
    "start, end = cfg[\"dataset\"][\"start_date\"], cfg[\"dataset\"][\"end_date\"]\n",
    "print(\"Config window:\", start, \"→\", end)"
   ]
  },
  {
   "cell_type": "code",
   "execution_count": 4,
   "id": "6767332c-04d4-4010-8a36-62511198f543",
   "metadata": {},
   "outputs": [
    {
     "name": "stdout",
     "output_type": "stream",
     "text": [
      "Raw shape: (210, 10)\n",
      "Raw range: 2008-01-31 → 2025-06-30\n",
      "Columns: ['SP500', 'FedFundsRate', 'CPI', 'UnemploymentRate', 'VIX', 'EPU_US', 'FSI', 'Gold_USD_oz', 'WTI_Spot', 'USD_per_EUR'] \n"
     ]
    }
   ],
   "source": [
    "# Load raw\n",
    "RAW = ROOT / \"artifacts\" / \"data\" / \"raw_data.parquet\"\n",
    "if not RAW.exists():\n",
    "    raise FileNotFoundError(f\"Raw parquet not found: {RAW}. Run the data download step first.\")\n",
    "\n",
    "df_raw = pd.read_parquet(RAW)\n",
    "df_raw = _ensure_datetime_index_sorted(df_raw)\n",
    "\n",
    "print(\"Raw shape:\", df_raw.shape)\n",
    "print(\"Raw range:\", str(df_raw.index.min())[:10], \"→\", str(df_raw.index.max())[:10])\n",
    "print(\"Columns:\", list(df_raw.columns)[:20], \"...\" if len(df_raw.columns) > 20 else \"\")  # WHY: Trim long lists."
   ]
  },
  {
   "cell_type": "code",
   "execution_count": 5,
   "id": "e8d204ba-57b9-49eb-82ea-0e13f7bbf065",
   "metadata": {},
   "outputs": [
    {
     "name": "stdout",
     "output_type": "stream",
     "text": [
      "Features shape: (196, 16)\n",
      "Dropped rows due to windows/targets: 14\n"
     ]
    },
    {
     "data": {
      "text/html": [
       "<div>\n",
       "<style scoped>\n",
       "    .dataframe tbody tr th:only-of-type {\n",
       "        vertical-align: middle;\n",
       "    }\n",
       "\n",
       "    .dataframe tbody tr th {\n",
       "        vertical-align: top;\n",
       "    }\n",
       "\n",
       "    .dataframe thead th {\n",
       "        text-align: right;\n",
       "    }\n",
       "</style>\n",
       "<table border=\"1\" class=\"dataframe\">\n",
       "  <thead>\n",
       "    <tr style=\"text-align: right;\">\n",
       "      <th></th>\n",
       "      <th>Return_Lag1</th>\n",
       "      <th>3M_SMA_Return</th>\n",
       "      <th>12M_SMA_Return</th>\n",
       "      <th>3M_Momentum</th>\n",
       "      <th>Volatility_6M</th>\n",
       "      <th>FedFunds_Delta_bps</th>\n",
       "      <th>Inflation_YoY_pct</th>\n",
       "      <th>UnemploymentRate</th>\n",
       "      <th>VIX</th>\n",
       "      <th>EPU_US</th>\n",
       "      <th>FSI</th>\n",
       "      <th>Gold_USD_oz</th>\n",
       "      <th>WTI_Spot</th>\n",
       "      <th>USD_per_EUR</th>\n",
       "      <th>y_return_next_pct</th>\n",
       "      <th>y_direction_next</th>\n",
       "    </tr>\n",
       "  </thead>\n",
       "  <tbody>\n",
       "    <tr>\n",
       "      <th>2025-03-31</th>\n",
       "      <td>-1.424209</td>\n",
       "      <td>-1.492350</td>\n",
       "      <td>0.608940</td>\n",
       "      <td>-4.586820</td>\n",
       "      <td>4.041461</td>\n",
       "      <td>0.0</td>\n",
       "      <td>2.814270</td>\n",
       "      <td>4.1</td>\n",
       "      <td>22.28</td>\n",
       "      <td>228.62756</td>\n",
       "      <td>-0.462200</td>\n",
       "      <td>275.387142</td>\n",
       "      <td>68.24</td>\n",
       "      <td>1.0796</td>\n",
       "      <td>-0.762494</td>\n",
       "      <td>0</td>\n",
       "    </tr>\n",
       "    <tr>\n",
       "      <th>2025-04-30</th>\n",
       "      <td>-5.754470</td>\n",
       "      <td>-2.647058</td>\n",
       "      <td>0.892191</td>\n",
       "      <td>-7.805106</td>\n",
       "      <td>4.035583</td>\n",
       "      <td>0.0</td>\n",
       "      <td>2.405585</td>\n",
       "      <td>4.2</td>\n",
       "      <td>24.70</td>\n",
       "      <td>296.92294</td>\n",
       "      <td>0.045375</td>\n",
       "      <td>296.956668</td>\n",
       "      <td>63.54</td>\n",
       "      <td>1.1349</td>\n",
       "      <td>6.152383</td>\n",
       "      <td>1</td>\n",
       "    </tr>\n",
       "    <tr>\n",
       "      <th>2025-05-31</th>\n",
       "      <td>-0.762494</td>\n",
       "      <td>-0.121527</td>\n",
       "      <td>1.004713</td>\n",
       "      <td>-0.718953</td>\n",
       "      <td>4.164134</td>\n",
       "      <td>0.0</td>\n",
       "      <td>2.333747</td>\n",
       "      <td>4.2</td>\n",
       "      <td>18.57</td>\n",
       "      <td>296.92294</td>\n",
       "      <td>-0.550700</td>\n",
       "      <td>302.891427</td>\n",
       "      <td>62.17</td>\n",
       "      <td>1.1347</td>\n",
       "      <td>4.421407</td>\n",
       "      <td>1</td>\n",
       "    </tr>\n",
       "  </tbody>\n",
       "</table>\n",
       "</div>"
      ],
      "text/plain": [
       "            Return_Lag1  3M_SMA_Return  12M_SMA_Return  3M_Momentum  \\\n",
       "2025-03-31    -1.424209      -1.492350        0.608940    -4.586820   \n",
       "2025-04-30    -5.754470      -2.647058        0.892191    -7.805106   \n",
       "2025-05-31    -0.762494      -0.121527        1.004713    -0.718953   \n",
       "\n",
       "            Volatility_6M  FedFunds_Delta_bps  Inflation_YoY_pct  \\\n",
       "2025-03-31       4.041461                 0.0           2.814270   \n",
       "2025-04-30       4.035583                 0.0           2.405585   \n",
       "2025-05-31       4.164134                 0.0           2.333747   \n",
       "\n",
       "            UnemploymentRate    VIX     EPU_US       FSI  Gold_USD_oz  \\\n",
       "2025-03-31               4.1  22.28  228.62756 -0.462200   275.387142   \n",
       "2025-04-30               4.2  24.70  296.92294  0.045375   296.956668   \n",
       "2025-05-31               4.2  18.57  296.92294 -0.550700   302.891427   \n",
       "\n",
       "            WTI_Spot  USD_per_EUR  y_return_next_pct  y_direction_next  \n",
       "2025-03-31     68.24       1.0796          -0.762494                 0  \n",
       "2025-04-30     63.54       1.1349           6.152383                 1  \n",
       "2025-05-31     62.17       1.1347           4.421407                 1  "
      ]
     },
     "execution_count": 5,
     "metadata": {},
     "output_type": "execute_result"
    }
   ],
   "source": [
    "# Build features: FeatureSpec must match column names from loader.\n",
    "spec = FeatureSpec(\n",
    "    market_col=\"SP500\",\n",
    "    cpi_col=\"CPI\",\n",
    "    fedfunds_col=\"FedFundsRate\",\n",
    "    unemployment_col=\"UnemploymentRate\",\n",
    "    vix_col=\"VIX\",\n",
    "    epu_col=\"EPU_US\",\n",
    "    fsi_col=\"FSI\",\n",
    "    gold_col=\"Gold_USD_oz\",\n",
    "    wti_col=\"WTI_Spot\",\n",
    "    usdeur_col=\"USD_per_EUR\",\n",
    ")\n",
    "\n",
    "# Build leakage-safe features & next-month targets (uses only info available at t)\n",
    "features = build_feature_matrix(df_raw, spec=spec)\n",
    "\n",
    "# Quick diagnostics from feature builder (dropped rows due to rolling/targets).\n",
    "print(\"Features shape:\", features.shape)\n",
    "print(\"Dropped rows due to windows/targets:\", features.attrs.get(\"dropped_rows\"))\n",
    "\n",
    "# Preview tail for sanity (month-end alignment and target alignment).\n",
    "features.tail(3)"
   ]
  },
  {
   "cell_type": "code",
   "execution_count": 6,
   "id": "1811718d-1c6c-43de-94a6-e368c024f4b2",
   "metadata": {},
   "outputs": [
    {
     "name": "stdout",
     "output_type": "stream",
     "text": [
      "            y_return_next_pct  y_direction_next\n",
      "2025-01-31          -1.424209                 0\n",
      "2025-02-28          -5.754470                 0\n",
      "2025-03-31          -0.762494                 0\n",
      "2025-04-30           6.152383                 1\n",
      "2025-05-31           4.421407                 1\n",
      "Saved features → C:\\Users\\gamer\\Desktop\\AktienPrognose\\artifacts\\data\\features_monthly.parquet and C:\\Users\\gamer\\Desktop\\AktienPrognose\\artifacts\\data\\features_monthly.csv\n"
     ]
    }
   ],
   "source": [
    "# Validate persist: Final sanity checks prior to persistence.\n",
    "if features.empty:\n",
    "    raise RuntimeError(\"Empty features frame — check input coverage and config column names.\")\n",
    "if not features.columns.is_unique:\n",
    "    dupes = pd.Series(features.columns).value_counts()\n",
    "    dupes = dupes[dupes > 1].index.tolist()\n",
    "    raise RuntimeError(f\"Duplicate columns in features: {dupes}\")\n",
    "\n",
    "# Time-window consistency with config guardrails (inclusive).\n",
    "if features.index.min() < pd.to_datetime(start):\n",
    "    raise RuntimeError(\"Features begin before configured start date.\")\n",
    "if features.index.max() > pd.to_datetime(end):\n",
    "    raise RuntimeError(\"Features extend beyond configured end date.\")\n",
    "\n",
    "# Quick target visibility (only if present).\n",
    "target_cols = [c for c in (spec.y_ret_next, spec.y_dir_next) if c in features.columns]\n",
    "if target_cols:\n",
    "    print(features[target_cols].tail(5))\n",
    "\n",
    "# Persist artifacts (Parquet + CSV for quick inspection).\n",
    "OUT_PQ = ROOT / \"artifacts\" / \"data\" / \"features_monthly.parquet\"\n",
    "OUT_CSV = ROOT / \"artifacts\" / \"data\" / \"features_monthly.csv\"\n",
    "_safe_write_parquet_csv(features, OUT_PQ, OUT_CSV)\n",
    "print(\"Saved features →\", OUT_PQ, \"and\", OUT_CSV)\n"
   ]
  },
  {
   "cell_type": "code",
   "execution_count": 7,
   "id": "a8f56e18-804a-4226-b360-d29ab423e4e1",
   "metadata": {},
   "outputs": [
    {
     "name": "stdout",
     "output_type": "stream",
     "text": [
      "Feature columns: ['Return_Lag1', '3M_SMA_Return', '12M_SMA_Return', '3M_Momentum', 'Volatility_6M', 'FedFunds_Delta_bps', 'Inflation_YoY_pct', 'UnemploymentRate', 'VIX', 'EPU_US', 'FSI', 'Gold_USD_oz', 'WTI_Spot', 'USD_per_EUR']\n",
      "Period: 2009-02-28 → 2025-05-31\n",
      "Target stats:\n",
      " count    196.000000\n",
      "mean       1.180647\n",
      "std        4.229466\n",
      "min      -12.511928\n",
      "5%        -6.343248\n",
      "25%       -1.443139\n",
      "50%        1.787186\n",
      "75%        3.623017\n",
      "95%        7.897915\n",
      "max       12.684404\n"
     ]
    }
   ],
   "source": [
    "# Report: Compact final summary for the run log.\n",
    "feature_only_cols = [c for c in features.columns if c not in (spec.y_ret_next, spec.y_dir_next)]\n",
    "print(\"Feature columns:\", feature_only_cols)\n",
    "print(\"Period:\", str(features.index.min())[:10], \"→\", str(features.index.max())[:10])\n",
    "\n",
    "# Show robust percentiles of the regression target to catch obvious scaling issues.\n",
    "if spec.y_ret_next in features.columns:\n",
    "    desc = features[spec.y_ret_next].describe(percentiles=[0.05, 0.25, 0.5, 0.75, 0.95])\n",
    "    print(\"Target stats:\\n\", desc.to_string())\n",
    "else:\n",
    "    logger.warning(f\"Target column '{spec.y_ret_next}' not found in features.\")"
   ]
  },
  {
   "cell_type": "code",
   "execution_count": 8,
   "id": "598e134e-cea4-4540-bc6e-83001f7c3007",
   "metadata": {},
   "outputs": [
    {
     "data": {
      "text/markdown": [
       "\n",
       "**Project Checklist**\n",
       "- [x] Data loaded (`artifacts/data/raw_data.parquet`)\n",
       "- [x] Raw audit (`01_data_raw_audit.ipynb`)\n",
       "- [x] Build features (`02_build_features_monthly.ipynb`)\n",
       "- [ ] EDA (`03_eda.ipynb`)\n",
       "- [ ] Baselines (`10_train_eval_baselines.ipynb`)\n",
       "- [ ] Linear models (`20_train_eval_linear.ipynb`)\n",
       "- [ ] ARIMA (`21_train_eval_arima.ipynb`)\n",
       "- [ ] Random Forest (`22_train_eval_random_forest.ipynb`)\n",
       "- [ ] LSTM (`23_train_eval_lstm.ipynb`)\n",
       "- [ ] Ensembles (`90_ensembles.ipynb`)\n",
       "- [ ] Final report (`99_report_reproducibility.ipynb`)\n"
      ],
      "text/plain": [
       "<IPython.core.display.Markdown object>"
      ]
     },
     "metadata": {},
     "output_type": "display_data"
    }
   ],
   "source": [
    "# Results:\n",
    "from IPython.display import Markdown, display\n",
    "display(Markdown(\"\"\"\n",
    "**Project Checklist**\n",
    "- [x] Data loaded (`artifacts/data/raw_data.parquet`)\n",
    "- [x] Raw audit (`01_data_raw_audit.ipynb`)\n",
    "- [x] Build features (`02_build_features_monthly.ipynb`)\n",
    "- [ ] EDA (`03_eda.ipynb`)\n",
    "- [ ] Baselines (`10_train_eval_baselines.ipynb`)\n",
    "- [ ] Linear models (`20_train_eval_linear.ipynb`)\n",
    "- [ ] ARIMA (`21_train_eval_arima.ipynb`)\n",
    "- [ ] Random Forest (`22_train_eval_random_forest.ipynb`)\n",
    "- [ ] LSTM (`23_train_eval_lstm.ipynb`)\n",
    "- [ ] Ensembles (`90_ensembles.ipynb`)\n",
    "- [ ] Final report (`99_report_reproducibility.ipynb`)\n",
    "\"\"\"))"
   ]
  }
 ],
 "metadata": {
  "kernelspec": {
   "display_name": "Python 3 (ipykernel)",
   "language": "python",
   "name": "python3"
  },
  "language_info": {
   "codemirror_mode": {
    "name": "ipython",
    "version": 3
   },
   "file_extension": ".py",
   "mimetype": "text/x-python",
   "name": "python",
   "nbconvert_exporter": "python",
   "pygments_lexer": "ipython3",
   "version": "3.12.10"
  }
 },
 "nbformat": 4,
 "nbformat_minor": 5
}
