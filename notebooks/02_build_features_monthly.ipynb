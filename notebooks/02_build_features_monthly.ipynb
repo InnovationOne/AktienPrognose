{
 "cells": [
  {
   "cell_type": "code",
   "execution_count": 1,
   "id": "b3a4a4ac-b692-40c0-801c-eb9d73be1c46",
   "metadata": {},
   "outputs": [],
   "source": [
    "from pathlib import Path\n",
    "import sys, yaml\n",
    "import pandas as pd\n",
    "\n",
    "ROOT = Path.cwd()\n",
    "assert (ROOT/\"src\").exists() and (ROOT/\"artifacts/data\").exists(), \"Project structure missing.\"\n",
    "\n",
    "# Make local package importable\n",
    "sys.path.append(str(ROOT))\n",
    "\n",
    "# Config (optional here, but useful to ensure naming alignment)\n",
    "with open(ROOT/\"config/data_config.yaml\", \"r\", encoding=\"utf-8\") as f:\n",
    "    cfg = yaml.safe_load(f) or {}\n",
    "\n",
    "start, end = cfg[\"dataset\"][\"start_date\"], cfg[\"dataset\"][\"end_date\"]\n",
    "print(\"Config window:\", start, \"→\", end)\n",
    "\n",
    "# Import the feature builder\n",
    "from src.features.feature_engineering import FeatureSpec, build_feature_matrix"
   ]
  },
  {
   "cell_type": "code",
   "execution_count": 2,
   "id": "52bded61-850c-4f35-adfd-5c6fcff07527",
   "metadata": {
    "tags": []
   },
   "outputs": [
    {
     "name": "stdout",
     "output_type": "stream",
     "text": [
      "Module erfolgreich importiert\n"
     ]
    }
   ],
   "source": [
    "RAW = ROOT/\"artifacts/data/raw_data.parquet\"\n",
    "if not RAW.exists():\n",
    "    raise FileNotFoundError(f\"Raw parquet not found: {RAW}. Run 00_index first.\")\n",
    "\n",
    "df_raw = pd.read_parquet(RAW)\n",
    "assert isinstance(df_raw.index, pd.DatetimeIndex), \"Index must be DatetimeIndex.\"\n",
    "if not df_raw.index.is_monotonic_increasing:\n",
    "    df_raw = df_raw.sort_index()\n",
    "\n",
    "print(\"Raw shape:\", df_raw.shape)\n",
    "print(\"Raw range:\", str(df_raw.index.min())[:10], \"→\", str(df_raw.index.max())[:10])\n",
    "print(\"Columns:\", list(df_raw.columns))"
   ]
  },
  {
   "cell_type": "code",
   "execution_count": null,
   "id": "62cc67dd-239e-48d0-90ea-8a5934529e2f",
   "metadata": {},
   "outputs": [],
   "source": [
    "# FeatureSpec must match your column names from the loader/config.\n",
    "spec = FeatureSpec(\n",
    "    market_col=\"SP500\",       # from data_config.yaml (name for ^GSPC)\n",
    "    cpi_col=\"CPI\",\n",
    "    fedfunds_col=\"FedFundsRate\",\n",
    "    unemployment_col=\"UnemploymentRate\",\n",
    "    vix_col=\"VIX\",\n",
    "    epu_col=\"EPU_US\",\n",
    "    fsi_col=\"FSI\",\n",
    "    gold_col=\"Gold_USD_oz\",\n",
    "    wti_col=\"WTI_Spot\",\n",
    "    usdeur_col=\"USD_per_EUR\",\n",
    ")\n",
    "\n",
    "# Build leakage-safe features & next-month targets\n",
    "features = build_feature_matrix(df_raw, spec=spec)\n",
    "print(\"Features shape:\", features.shape)\n",
    "print(\"Dropped rows due to windows/targets:\", features.attrs.get(\"dropped_rows\"))\n",
    "features.tail(3)"
   ]
  },
  {
   "cell_type": "code",
   "execution_count": null,
   "id": "6767332c-04d4-4010-8a36-62511198f543",
   "metadata": {},
   "outputs": [],
   "source": [
    "# Final sanity checks\n",
    "assert features.index.min() >= pd.to_datetime(start)\n",
    "assert features.index.max() <= pd.to_datetime(end)\n",
    "assert features.columns.is_unique, \"Duplicate columns in features.\"\n",
    "\n",
    "# Quick target visibility\n",
    "print(features[[spec.y_ret_next, spec.y_dir_next]].tail(5))\n",
    "\n",
    "# Persist (parquet + optional CSV for quick inspection)\n",
    "OUT_PQ = ROOT/\"artifacts/data/features_monthly.parquet\"\n",
    "OUT_CSV = ROOT/\"artifacts/data/features_monthly.csv\"\n",
    "\n",
    "features.to_parquet(OUT_PQ)\n",
    "features.to_csv(OUT_CSV, index=True)\n",
    "print(\"Saved features →\", OUT_PQ, \"and\", OUT_CSV)"
   ]
  },
  {
   "cell_type": "code",
   "execution_count": null,
   "id": "e8d204ba-57b9-49eb-82ea-0e13f7bbf065",
   "metadata": {},
   "outputs": [],
   "source": [
    "print(\"Feature columns:\", [c for c in features.columns if c not in (spec.y_ret_next, spec.y_dir_next)])\n",
    "print(\"Period:\", str(features.index.min())[:10], \"→\", str(features.index.max())[:10])\n",
    "print(\"Target stats:\",\n",
    "      features[spec.y_ret_next].describe(percentiles=[.05,.25,.5,.75,.95]).to_string())"
   ]
  },
  {
   "cell_type": "code",
   "execution_count": null,
   "id": "598e134e-cea4-4540-bc6e-83001f7c3007",
   "metadata": {},
   "outputs": [],
   "source": [
    "# Results: Lightweight, human-readable project checklist to guide next steps without leaving the notebook.\n",
    "from IPython.display import Markdown, display\n",
    "display(Markdown(\"\"\"\n",
    "**Project Checklist**\n",
    "- [x] Data loaded (`artifacts/data/raw_data.parquet`)\n",
    "- [x] Raw audit (`01_data_raw_audit.ipynb`)\n",
    "- [x] Build features (`02_build_features_monthly.ipynb`)\n",
    "- [ ] EDA (`03_eda.ipynb`)\n",
    "- [ ] Baselines (`10_train_eval_baselines.ipynb`)\n",
    "- [ ] Linear models (`20_train_eval_linear.ipynb`)\n",
    "- [ ] ARIMA (`21_train_eval_arima.ipynb`)\n",
    "- [ ] Random Forest (`22_train_eval_random_forest.ipynb`)\n",
    "- [ ] LSTM (`23_train_eval_lstm.ipynb`)\n",
    "- [ ] Ensembles (`90_ensembles.ipynb`)\n",
    "- [ ] Final report (`99_report_reproducibility.ipynb`)\n",
    "\"\"\"))"
   ]
  }
 ],
 "metadata": {
  "kernelspec": {
   "display_name": "Python 3 (ipykernel)",
   "language": "python",
   "name": "python3"
  },
  "language_info": {
   "codemirror_mode": {
    "name": "ipython",
    "version": 3
   },
   "file_extension": ".py",
   "mimetype": "text/x-python",
   "name": "python",
   "nbconvert_exporter": "python",
   "pygments_lexer": "ipython3",
   "version": "3.12.10"
  }
 },
 "nbformat": 4,
 "nbformat_minor": 5
}
