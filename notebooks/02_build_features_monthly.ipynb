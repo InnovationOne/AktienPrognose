{
 "cells": [
  {
   "cell_type": "code",
   "execution_count": 1,
   "id": "b3a4a4ac-b692-40c0-801c-eb9d73be1c46",
   "metadata": {},
   "outputs": [],
   "source": [
    "# Feature Engineering und Datensatzaufbau\n",
    "\n",
    "import sys, os\n",
    "sys.path.append(os.path.abspath(os.path.join('..')))"
   ]
  },
  {
   "cell_type": "code",
   "execution_count": 2,
   "id": "52bded61-850c-4f35-adfd-5c6fcff07527",
   "metadata": {
    "tags": []
   },
   "outputs": [
    {
     "name": "stdout",
     "output_type": "stream",
     "text": [
      "Module erfolgreich importiert\n"
     ]
    }
   ],
   "source": [
    "from src.data import download_data\n",
    "print(\"Module erfolgreich importiert\")"
   ]
  },
  {
   "cell_type": "code",
   "execution_count": null,
   "id": "62cc67dd-239e-48d0-90ea-8a5934529e2f",
   "metadata": {},
   "outputs": [],
   "source": []
  }
 ],
 "metadata": {
  "kernelspec": {
   "display_name": "Python 3 (ipykernel)",
   "language": "python",
   "name": "python3"
  },
  "language_info": {
   "codemirror_mode": {
    "name": "ipython",
    "version": 3
   },
   "file_extension": ".py",
   "mimetype": "text/x-python",
   "name": "python",
   "nbconvert_exporter": "python",
   "pygments_lexer": "ipython3",
   "version": "3.12.10"
  }
 },
 "nbformat": 4,
 "nbformat_minor": 5
}
