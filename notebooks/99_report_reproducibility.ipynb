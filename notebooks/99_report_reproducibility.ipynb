{
 "cells": [
  {
   "cell_type": "code",
   "execution_count": null,
   "id": "f5f9ce1f-d39d-469f-b8ca-9591a0ac4aaa",
   "metadata": {},
   "outputs": [],
   "source": [
    "# Abschluss: Gesamtergebnis, Reproduzierbarkeitstest\n",
    "\n",
    "import sys, os\n",
    "sys.path.append(os.path.abspath(os.path.join('..')))"
   ]
  }
 ],
 "metadata": {
  "kernelspec": {
   "display_name": "Python 3 (ipykernel)",
   "language": "python",
   "name": "python3"
  },
  "language_info": {
   "name": ""
  }
 },
 "nbformat": 4,
 "nbformat_minor": 5
}
