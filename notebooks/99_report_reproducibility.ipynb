{
 "cells": [
  {
   "cell_type": "code",
   "execution_count": null,
   "id": "f5f9ce1f-d39d-469f-b8ca-9591a0ac4aaa",
   "metadata": {},
   "outputs": [],
   "source": [
    "# Abschluss: Gesamtergebnis, Reproduzierbarkeitstest\n",
    "\n",
    "import sys, os\n",
    "sys.path.append(os.path.abspath(os.path.join('..')))"
   ]
  }
 ],
 "metadata": {
  "kernelspec": {
   "display_name": "Python 3 (ipykernel)",
   "language": "python",
   "name": "python3"
  },
  "language_info": {
   "codemirror_mode": {
    "name": "ipython",
    "version": 3
   },
   "file_extension": ".py",
   "mimetype": "text/x-python",
   "name": "python",
   "nbconvert_exporter": "python",
   "pygments_lexer": "ipython3",
   "version": "3.12.10"
  }
 },
 "nbformat": 4,
 "nbformat_minor": 5
}
