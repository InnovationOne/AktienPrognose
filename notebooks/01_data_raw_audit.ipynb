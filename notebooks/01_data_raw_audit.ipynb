{
 "cells": [
  {
   "cell_type": "code",
   "execution_count": null,
   "id": "3944c910-9d13-4e59-a19a-857a961426c9",
   "metadata": {},
   "outputs": [],
   "source": [
    "# Paths & environment smoke checks\n",
    "from pathlib import Path\n",
    "import sys, importlib, yaml\n",
    "\n",
    "ROOT = Path.cwd()\n",
    "assert (ROOT/\"config\").exists() and (ROOT/\"src\").exists(), \"Project folders missing.\"\n",
    "print(\"Project root:\", ROOT)\n",
    "\n",
    "# Ensure artifacts structure exists (clear separation of outputs)\n",
    "for p in [\"artifacts/data\",\"artifacts/models\",\"artifacts/forecasts\",\"artifacts/metrics\",\"artifacts/reports\",\"artifacts/tmp\"]:\n",
    "    (ROOT/p).mkdir(parents=True, exist_ok=True)\n",
    "\n",
    "# pandas implies numpy; we still print both for transparency/debugging\n",
    "import pandas as pd, numpy as np\n",
    "print(\"pandas\", pd.__version__, \"| numpy\", np.__version__)\n",
    "\n",
    "# Critical runtime deps (import-only smoke test)\n",
    "for pkg in [\"yfinance\", \"pandas_datareader\", \"pyarrow\"]:\n",
    "    try:\n",
    "        importlib.import_module(pkg)\n",
    "        print(f\"OK: {pkg}\")\n",
    "    except Exception as e:\n",
    "        raise RuntimeError(f\"Missing/broken dependency: {pkg}. Install and retry.\") from e\n",
    "\n",
    "# Filesystem writability check (avoid later surprises on parquet writes)\n",
    "tmp = ROOT/\"artifacts/tmp/write_check.txt\"\n",
    "tmp.write_text(\"ok\")\n",
    "tmp.unlink()\n",
    "print(\"FS write check: OK\")"
   ]
  },
  {
   "cell_type": "code",
   "execution_count": null,
   "id": "853a23e4-a97b-4300-b684-032cc436af33",
   "metadata": {},
   "outputs": [],
   "source": [
    "# Load config and enforce guardrails\n",
    "cfg_path = ROOT/\"config/data_config.yaml\"\n",
    "with open(cfg_path, \"r\", encoding=\"utf-8\") as f:\n",
    "    cfg = yaml.safe_load(f) or {}\n",
    "\n",
    "if \"dataset\" not in cfg:\n",
    "    raise KeyError(\"Missing top-level 'dataset' in config/data_config.yaml\")\n",
    "for k in [\"start_date\", \"end_date\"]:\n",
    "    if k not in cfg[\"dataset\"]:\n",
    "        raise KeyError(f\"Missing dataset.{k} in config\")\n",
    "\n",
    "start, end = cfg[\"dataset\"][\"start_date\"], cfg[\"dataset\"][\"end_date\"]\n",
    "print(\"Config window:\", start, \"→\", end)\n",
    "assert start == \"2008-01-01\" and end == \"2025-06-30\", \"Guardrails breached.\"\n",
    "\n",
    "from pprint import pprint as pp\n",
    "pp(cfg[\"dataset\"])"
   ]
  },
  {
   "cell_type": "code",
   "execution_count": null,
   "id": "9b36f917-4005-41eb-8259-0086cd28ebaa",
   "metadata": {},
   "outputs": [],
   "source": [
    "import pandas as pd\n",
    "RAW = ROOT/\"artifacts/data/raw_data.parquet\"\n",
    "if not RAW.exists():\n",
    "    raise FileNotFoundError(f\"Raw parquet not found: {RAW}. Run 00_index first.\")\n",
    "df = pd.read_parquet(RAW)\n",
    "print(\"Shape:\", df.shape)\n",
    "print(\"Range:\", str(df.index.min())[:10], \"→\", str(df.index.max())[:10])\n",
    "assert isinstance(df.index, pd.DatetimeIndex), \"Index must be DatetimeIndex.\""
   ]
  },
  {
   "cell_type": "code",
   "execution_count": null,
   "id": "fc9f1945-d0a6-4a6e-8c67-c244a5ae6ecc",
   "metadata": {},
   "outputs": [],
   "source": [
    "# Ensure a proper monthly grid (month-end)\n",
    "full_idx = pd.date_range(start=df.index.min(), end=df.index.max(), freq=\"M\")\n",
    "missing = full_idx.difference(df.index)\n",
    "print(f\"Monthly index check: expected={len(full_idx)} | actual={len(df.index)} | missing={len(missing)}\")\n",
    "if len(missing) > 0:\n",
    "    print(\"Missing months:\", missing[:12], \"...\" if len(missing)>12 else \"\")"
   ]
  },
  {
   "cell_type": "code",
   "execution_count": null,
   "id": "9b30bcd9-5312-4d03-ba9a-b10aabd723a4",
   "metadata": {},
   "outputs": [],
   "source": [
    "na_rate = df.isna().mean().sort_values(ascending=False)\n",
    "print(\"Top-10 missing rates:\\n\", na_rate.head(10))\n",
    "print(\"Columns:\", list(df.columns))\n",
    "df.tail(3)"
   ]
  },
  {
   "cell_type": "code",
   "execution_count": null,
   "id": "eb15ba9c-088e-4d16-b6e6-6cdb13d6d152",
   "metadata": {},
   "outputs": [],
   "source": [
    "# Soft plausibility ranges; trigger warnings to surface oddities but don't hard-stop\n",
    "import math\n",
    "\n",
    "def warn_if(cond, msg):\n",
    "    if cond:\n",
    "        print(\"WARN:\", msg)\n",
    "\n",
    "# Ranges chosen to catch gross data issues, not to overfit reality\n",
    "colmap = {\n",
    "    \"FedFundsRate\": (-1.0, 25.0),        # percent\n",
    "    \"UnemploymentRate\": (0.0, 25.0),     # percent\n",
    "    \"VIX\": (0.0, 120.0),                 # index level\n",
    "    \"USD_per_EUR\": (0.5, 2.0),           # USD per EUR\n",
    "    \"FSI\": (-10.0, 10.0),                # stress index\n",
    "    \"EPU_US\": (0.0, 1000.0),             # uncertainty index\n",
    "    \"WTI_Spot\": (0.0, 250.0),            # USD/barrel\n",
    "    \"Gold_USD_oz\": (200.0, 3000.0),      # USD/oz\n",
    "    \"CPI\": (50.0, 500.0),                # index level (CPIAUCSL)\n",
    "    \"SP500\": (100.0, 10000.0),           # index level (broad guard)\n",
    "}\n",
    "\n",
    "for c, (lo, hi) in colmap.items():\n",
    "    if c in df.columns:\n",
    "        s = df[c].dropna()\n",
    "        warn_if((s < lo).any(),  f\"{c}: values below {lo}\")\n",
    "        warn_if((s > hi).any(),  f\"{c}: values above {hi}\")\n",
    "    else:\n",
    "        print(f\"INFO: Column not present (skip plausibility): {c}\")\n",
    "print(\"Plausibility scan done.\")"
   ]
  },
  {
   "cell_type": "code",
   "execution_count": null,
   "id": "3db4bcea-e711-4082-a7f0-17906a550adc",
   "metadata": {},
   "outputs": [],
   "source": [
    "audit = pd.DataFrame({\n",
    "    \"col\": df.columns,\n",
    "    \"na_rate\": [df[c].isna().mean() for c in df.columns],\n",
    "    \"min\": [df[c].min() for c in df.columns],\n",
    "    \"max\": [df[c].max() for c in df.columns],\n",
    "})\n",
    "out = ROOT/\"artifacts/reports/audit_raw_summary.csv\"\n",
    "audit.to_csv(out, index=False)\n",
    "print(\"Saved audit summary →\", out)\n",
    "audit.head(10)"
   ]
  }
 ],
 "metadata": {
  "kernelspec": {
   "display_name": "Python 3 (ipykernel)",
   "language": "python",
   "name": "python3"
  },
  "language_info": {
   "codemirror_mode": {
    "name": "ipython",
    "version": 3
   },
   "file_extension": ".py",
   "mimetype": "text/x-python",
   "name": "python",
   "nbconvert_exporter": "python",
   "pygments_lexer": "ipython3",
   "version": "3.12.10"
  }
 },
 "nbformat": 4,
 "nbformat_minor": 5
}
