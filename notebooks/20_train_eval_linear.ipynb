{
 "cells": [
  {
   "cell_type": "code",
   "execution_count": null,
   "id": "4229bb3e-3242-4660-912a-440139d5ab27",
   "metadata": {},
   "outputs": [],
   "source": [
    "# Training & Evaluation Lineare Modelle\n",
    "\n",
    "import sys, os\n",
    "sys.path.append(os.path.abspath(os.path.join('..')))"
   ]
  }
 ],
 "metadata": {
  "kernelspec": {
   "display_name": "Python 3 (ipykernel)",
   "language": "python",
   "name": "python3"
  },
  "language_info": {
   "name": ""
  }
 },
 "nbformat": 4,
 "nbformat_minor": 5
}
