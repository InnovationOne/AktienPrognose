{
 "cells": [
  {
   "cell_type": "code",
   "execution_count": 1,
   "id": "d1812cd1-c21b-4e85-99d2-d3f2b16b6e1a",
   "metadata": {},
   "outputs": [],
   "source": [
    "# Setup: Keep the notebook reproducible and self-contained with explicit setup.\n",
    "from __future__ import annotations\n",
    "\n",
    "from pathlib import Path\n",
    "import sys\n",
    "import json\n",
    "import logging\n",
    "import warnings\n",
    "\n",
    "import numpy as np\n",
    "import pandas as pd\n",
    "\n",
    "warnings.filterwarnings(\"ignore\")\n",
    "logging.basicConfig(level=logging.INFO, format=\"%(levelname)s: %(message)s\")\n",
    "logger = logging.getLogger(\"baselines\")\n",
    "\n",
    "def find_project_root(start: Path) -> Path:\n",
    "    start = start.resolve()\n",
    "    for p in [start, *start.parents]:\n",
    "        if (p/\"config\").exists() and (p/\"src\").exists():\n",
    "            return p\n",
    "    raise AssertionError(\"Project folders missing: expected 'config' and 'src' somewhere above the notebook.\")\n",
    "\n",
    "ROOT = find_project_root(Path.cwd())\n",
    "ARTIFACTS: Path = ROOT / \"artifacts\"\n",
    "FEATURES_PATH: Path = ARTIFACTS / \"data\" / \"features_monthly.parquet\"\n",
    "METRICS_DIR: Path = ARTIFACTS / \"metrics\"\n",
    "METRICS_DIR.mkdir(parents=True, exist_ok=True)\n",
    "\n",
    "src_path = str(ROOT)\n",
    "if src_path not in sys.path:\n",
    "    sys.path.append(src_path)\n",
    "\n",
    "try:\n",
    "    import sklearn\n",
    "except Exception as e:\n",
    "    raise ImportError(\"scikit-learn must be installed to compute baseline metrics.\") from e"
   ]
  },
  {
   "cell_type": "code",
   "execution_count": 2,
   "id": "dc466db7-2f80-41e7-b542-d6db7846a9de",
   "metadata": {},
   "outputs": [],
   "source": [
    "# Helpers\n",
    "from typing import Tuple\n",
    "from src.utils.splits import time_split, split_Xy\n",
    "\n",
    "\n",
    "def _read_features(path: Path) -> pd.DataFrame:\n",
    "    \"\"\"Load the monthly feature table and validate its index/columns.\n",
    "    Args: path: Path to the Parquet file (monthly features + targets).\n",
    "    Returns: DataFrame with a monotonic increasing DatetimeIndex.\n",
    "    Raises:\n",
    "        FileNotFoundError: If the features file is missing.\n",
    "        TypeError: If the index is not a DatetimeIndex.\n",
    "        KeyError: If required target columns are missing.\"\"\"\n",
    "    if not path.exists():\n",
    "        raise FileNotFoundError(f\"Features file not found: {path}. \"\n",
    "                                \"Run feature-building notebook first.\")\n",
    "    df = pd.read_parquet(path)\n",
    "\n",
    "    # Many time-series ops depend on a DatetimeIndex.\n",
    "    if not isinstance(df.index, pd.DatetimeIndex):\n",
    "        raise TypeError(\"features_monthly must have a DatetimeIndex.\")\n",
    "    if not df.index.is_monotonic_increasing:\n",
    "        df = df.sort_index()  # Deterministic ordering for splits and metrics.\n",
    "\n",
    "    # Baselines depend on these targets.\n",
    "    required_cols = {\"y_return_next_pct\", \"y_direction_next\"}\n",
    "    missing = required_cols - set(df.columns)\n",
    "    if missing:\n",
    "        raise KeyError(f\"Missing required target column(s): {sorted(missing)}\")\n",
    "    return df\n",
    "\n",
    "\n",
    "def _persist_json(obj: dict, path: Path) -> None:\n",
    "    path.parent.mkdir(parents=True, exist_ok=True)\n",
    "    path.write_text(json.dumps(obj, indent=2), encoding=\"utf-8\")"
   ]
  },
  {
   "cell_type": "code",
   "execution_count": 3,
   "id": "9297befe-6a4e-47ce-be45-3cbb0c55269c",
   "metadata": {},
   "outputs": [
    {
     "name": "stdout",
     "output_type": "stream",
     "text": [
      "Train: 2009-02-28 → 2019-12-31 | n= 131\n",
      "Test : 2020-01-31 → 2025-05-31 | n= 65\n"
     ]
    }
   ],
   "source": [
    "# Data & splits\n",
    "DF: pd.DataFrame = _read_features(FEATURES_PATH)\n",
    "\n",
    "# Explicit, conventional split window for baseline comparisons.\n",
    "train, test = time_split(\n",
    "    DF,\n",
    "    train_end=\"2019-12-31\",  # End of pre-pandemic period for training.\n",
    "    test_start=\"2020-01-31\", # Start of pandemic/after period for out-of-sample test.\n",
    ")\n",
    "\n",
    "# Keep target names centralized. Split_Xy enforces dtype for classification target.\n",
    "Xtr, ytr_reg, ytr_clf = split_Xy(train, y_reg=\"y_return_next_pct\", y_clf=\"y_direction_next\")\n",
    "Xte, yte_reg, yte_clf = split_Xy(test,  y_reg=\"y_return_next_pct\", y_clf=\"y_direction_next\")\n",
    "\n",
    "print(\n",
    "    \"Train:\",\n",
    "    train.index.min().date(),\n",
    "    \"→\",\n",
    "    train.index.max().date(),\n",
    "    \"| n=\",\n",
    "    len(train),\n",
    ")\n",
    "print(\n",
    "    \"Test :\",\n",
    "    test.index.min().date(),\n",
    "    \"→\",\n",
    "    test.index.max().date(),\n",
    "    \"| n=\",\n",
    "    len(test),\n",
    ")"
   ]
  },
  {
   "cell_type": "code",
   "execution_count": 4,
   "id": "8729c8be-bd25-43a2-a884-d013e41a9129",
   "metadata": {},
   "outputs": [],
   "source": [
    "# Baselines: Use Series (not ndarray) to preserve index alignment.\n",
    "# Regressions: trivial baselines\n",
    "yhat_reg_zero: pd.Series = pd.Series(0.0, index=yte_reg.index)  # 0%-return benchmark.\n",
    "# True \"persistence\" baseline: predict next return = last observed target (lag-1) globally.\n",
    "yhat_reg_lag1: pd.Series = DF[\"y_return_next_pct\"].shift(1).reindex(yte_reg.index)\n",
    "\n",
    "# Classifications: trivial baselines\n",
    "yhat_clf_ones: pd.Series = pd.Series(1, dtype=\"int8\", index=yte_clf.index)   # Always \"Up\".\n",
    "yhat_clf_zeros: pd.Series = pd.Series(0, dtype=\"int8\", index=yte_clf.index)  # Always \"Down\"."
   ]
  },
  {
   "cell_type": "code",
   "execution_count": 5,
   "id": "d4733f79-7e45-4961-8cfd-427e03561942",
   "metadata": {},
   "outputs": [
    {
     "name": "stdout",
     "output_type": "stream",
     "text": [
      "REG_RMSE_zero: 5.2689\n",
      "REG_RMSE_lag1: 7.6722\n",
      "REG_MAE_zero: 4.4111\n",
      "REG_MAE_lag1: 6.0467\n",
      "CLF_Acc_ones: 0.6308\n",
      "CLF_Acc_zeros: 0.3692\n",
      "CLF_F1_ones: 0.7736\n",
      "CLF_F1_zeros: 0.0000\n"
     ]
    }
   ],
   "source": [
    "# Metrics\n",
    "from sklearn.metrics import mean_squared_error, mean_absolute_error, accuracy_score, f1_score\n",
    "\n",
    "\n",
    "def rmse(y_true: pd.Series, y_pred: pd.Series) -> float:\n",
    "    \"\"\"Root mean squared error with float output.\"\"\"\n",
    "    return float(np.sqrt(mean_squared_error(y_true, y_pred)))  # Keep scalar float for JSON serialization.\n",
    "\n",
    "\n",
    "def mae(y_true: pd.Series, y_pred: pd.Series) -> float:\n",
    "    \"\"\"Mean absolute error with float output.\"\"\"\n",
    "    return float(mean_absolute_error(y_true, y_pred))\n",
    "\n",
    "\n",
    "def acc(y_true: pd.Series, y_pred: pd.Series) -> float:\n",
    "    \"\"\"Classification accuracy with float output.\"\"\"\n",
    "    return float(accuracy_score(y_true, y_pred))\n",
    "\n",
    "\n",
    "def f1(y_true: pd.Series, y_pred: pd.Series) -> float:\n",
    "    \"\"\"Binary F1 score with defined behavior when a class is missing.\"\"\"\n",
    "    # zero_division=0 avoids warnings when a baseline predicts a single class.\n",
    "    return float(f1_score(y_true, y_pred, zero_division=0))\n",
    "\n",
    "\n",
    "metrics: dict[str, float] = {\n",
    "    # Regression metrics\n",
    "    \"REG_RMSE_zero\": rmse(yte_reg, yhat_reg_zero),\n",
    "    \"REG_RMSE_lag1\": rmse(yte_reg, yhat_reg_lag1.fillna(0.0)),  # First month can be NaN after shift.\n",
    "    \"REG_MAE_zero\": mae(yte_reg, yhat_reg_zero),\n",
    "    \"REG_MAE_lag1\": mae(yte_reg, yhat_reg_lag1.fillna(0.0)),\n",
    "    # Classification metrics\n",
    "    \"CLF_Acc_ones\": acc(yte_clf, yhat_clf_ones),\n",
    "    \"CLF_Acc_zeros\": acc(yte_clf, yhat_clf_zeros),\n",
    "    \"CLF_F1_ones\": f1(yte_clf, yhat_clf_ones),\n",
    "    \"CLF_F1_zeros\": f1(yte_clf, yhat_clf_zeros),\n",
    "}\n",
    "\n",
    "for k, v in metrics.items():\n",
    "    print(f\"{k}: {v:.4f}\")"
   ]
  },
  {
   "cell_type": "code",
   "execution_count": 6,
   "id": "edffb829-f419-4978-be96-4c17189e3700",
   "metadata": {},
   "outputs": [
    {
     "name": "stdout",
     "output_type": "stream",
     "text": [
      "Saved: C:\\Users\\gamer\\Desktop\\AktienPrognose\\artifacts\\metrics\\baselines.json\n"
     ]
    }
   ],
   "source": [
    "# Persist\n",
    "out_path = METRICS_DIR / \"baselines.json\"\n",
    "_persist_json(metrics, out_path)\n",
    "print(\"Saved:\", out_path)"
   ]
  }
 ],
 "metadata": {
  "kernelspec": {
   "display_name": "Python 3 (ipykernel)",
   "language": "python",
   "name": "python3"
  },
  "language_info": {
   "codemirror_mode": {
    "name": "ipython",
    "version": 3
   },
   "file_extension": ".py",
   "mimetype": "text/x-python",
   "name": "python",
   "nbconvert_exporter": "python",
   "pygments_lexer": "ipython3",
   "version": "3.12.10"
  }
 },
 "nbformat": 4,
 "nbformat_minor": 5
}
