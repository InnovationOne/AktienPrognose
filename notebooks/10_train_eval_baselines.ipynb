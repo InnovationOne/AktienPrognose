{
 "cells": [
  {
   "cell_type": "code",
   "execution_count": null,
   "id": "d1812cd1-c21b-4e85-99d2-d3f2b16b6e1a",
   "metadata": {},
   "outputs": [],
   "source": [
    "from pathlib import Path\n",
    "import pandas as pd, numpy as np\n",
    "\n",
    "ROOT = Path.cwd().resolve()\n",
    "DF = pd.read_parquet(ROOT/\"artifacts/data/features_monthly.parquet\")\n",
    "\n",
    "train = DF.loc[\"2009-01-31\":\"2019-12-31\"].copy()\n",
    "test  = DF.loc[\"2020-01-31\":DF.index.max()].copy()\n",
    "\n",
    "Xtr = train.drop(columns=[\"y_return_next_pct\",\"y_direction_next\"])\n",
    "ytr_reg = train[\"y_return_next_pct\"]\n",
    "ytr_clf = train[\"y_direction_next\"].astype(\"int8\")\n",
    "\n",
    "Xte = test.drop(columns=[\"y_return_next_pct\",\"y_direction_next\"])\n",
    "yte_reg = test[\"y_return_next_pct\"]\n",
    "yte_clf = test[\"y_direction_next\"].astype(\"int8\")\n",
    "\n",
    "print(\"Train:\", train.index.min().date(), \"→\", train.index.max().date(), \"| n=\", len(train))\n",
    "print(\"Test :\", test.index.min().date(),  \"→\", test.index.max().date(),  \"| n=\", len(test))\n"
   ]
  }
 ],
 "metadata": {
  "kernelspec": {
   "display_name": "Python 3 (ipykernel)",
   "language": "python",
   "name": "python3"
  },
  "language_info": {
   "codemirror_mode": {
    "name": "ipython",
    "version": 3
   },
   "file_extension": ".py",
   "mimetype": "text/x-python",
   "name": "python",
   "nbconvert_exporter": "python",
   "pygments_lexer": "ipython3",
   "version": "3.12.10"
  }
 },
 "nbformat": 4,
 "nbformat_minor": 5
}
